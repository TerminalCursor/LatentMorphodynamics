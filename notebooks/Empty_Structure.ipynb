{
 "cells": [
  {
   "cell_type": "markdown",
   "id": "ebfce4c6",
   "metadata": {},
   "source": [
    "# Imports and Functions"
   ]
  },
  {
   "cell_type": "code",
   "execution_count": 1,
   "id": "ff590465",
   "metadata": {},
   "outputs": [],
   "source": [
    "from sunlab.environment.base.cpu import *\n",
    "from sunlab.environment.base.extras import *\n",
    "from sunlab.globals import FILES\n",
    "from sunlab.sunflow import *"
   ]
  },
  {
   "cell_type": "markdown",
   "id": "cb02bc7e",
   "metadata": {},
   "source": [
    "# Setup"
   ]
  },
  {
   "cell_type": "code",
   "execution_count": null,
   "id": "3230e8e7",
   "metadata": {},
   "outputs": [],
   "source": []
  },
  {
   "cell_type": "markdown",
   "id": "001c1fbb",
   "metadata": {},
   "source": [
    "# Runtime Parameters"
   ]
  },
  {
   "cell_type": "code",
   "execution_count": 5,
   "id": "5ce1ed49",
   "metadata": {},
   "outputs": [],
   "source": [
    "SAVE_EXTRAS = False"
   ]
  },
  {
   "cell_type": "code",
   "execution_count": 6,
   "id": "a85a22d9",
   "metadata": {},
   "outputs": [],
   "source": [
    "g_Base = lambda *args: DIR_ROOT + \"Figures/\""
   ]
  },
  {
   "cell_type": "markdown",
   "id": "27e84e37",
   "metadata": {},
   "source": [
    "# Plots"
   ]
  },
  {
   "cell_type": "code",
   "execution_count": null,
   "id": "34b9e2bf",
   "metadata": {},
   "outputs": [],
   "source": []
  },
  {
   "cell_type": "markdown",
   "id": "ae236fe1",
   "metadata": {
    "heading_collapsed": true
   },
   "source": [
    "# END"
   ]
  },
  {
   "cell_type": "code",
   "execution_count": null,
   "id": "f3b5ed0b",
   "metadata": {
    "hidden": true
   },
   "outputs": [],
   "source": []
  }
 ],
 "metadata": {
  "kernelspec": {
   "display_name": "tfnb",
   "language": "python",
   "name": "python3"
  },
  "language_info": {
   "codemirror_mode": {
    "name": "ipython",
    "version": 3
   },
   "file_extension": ".py",
   "mimetype": "text/x-python",
   "name": "python",
   "nbconvert_exporter": "python",
   "pygments_lexer": "ipython3",
   "version": "3.9.12"
  }
 },
 "nbformat": 4,
 "nbformat_minor": 5
}
