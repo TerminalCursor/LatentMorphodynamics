{
 "cells": [
  {
   "cell_type": "code",
   "execution_count": 1,
   "id": "2a386f10",
   "metadata": {},
   "outputs": [],
   "source": [
    "from sunlab.globals import FILES"
   ]
  },
  {
   "cell_type": "code",
   "execution_count": 2,
   "id": "6eab6d52-54ac-44ed-9bda-7117cba37c87",
   "metadata": {},
   "outputs": [],
   "source": [
    "import os\n",
    "os.environ['TF_CPP_MIN_LOG_LEVEL'] = \"3\"\n",
    "os.environ['CUDA_VISIBLE_DEVICES'] = \"-1\"\n",
    "\n",
    "# import tensorflow as tf\n",
    "# tf.autograph.set_verbosity(0, False)\n",
    "# from matplotlib import pyplot as plt\n",
    "\n",
    "import joblib\n",
    "try:\n",
    "    import sklearn.externals.joblib as extjoblib\n",
    "except:\n",
    "    pass"
   ]
  },
  {
   "cell_type": "code",
   "execution_count": 3,
   "id": "4ff998f7-2bd5-41d6-a397-b74f7238d225",
   "metadata": {},
   "outputs": [],
   "source": [
    "def load_model(model_pkl_path, scaler_pkl_path):\n",
    "    clf = joblib.load(model_pkl_path)\n",
    "    scaler = joblib.load(scaler_pkl_path)\n",
    "    return clf, scaler"
   ]
  },
  {
   "cell_type": "code",
   "execution_count": 4,
   "id": "ce9834f6-1787-409d-85c5-fea51e130368",
   "metadata": {},
   "outputs": [],
   "source": [
    "def load_test_data(data, d=1, pixel2dist = 1.075268):\n",
    "    from transform_data import Add_Measures, Exclude_Measures\n",
    "    \"\"\"\n",
    "    Encapsulates SVM_csv.py\n",
    "\n",
    "    Inputs:\n",
    "        data_path: path to CSV data you wish to be evaluated\n",
    "        write_txt: write text file with probabilities etc.\n",
    "        d: dimensionality to which increase features. If d=2, quadratic, cross features are included.\n",
    "\n",
    "    Outputs:\n",
    "        Nothing, as of yet.\n",
    "    \"\"\"\n",
    "#     data = dataset.dataframe[dataset.data_columns].to_numpy()\n",
    "#     pixel2dist = 1.075268\n",
    "    #pixel2dist=0.53763672 #microns/pixel using 20x oil objective lens on confocal\n",
    "    #pixel2dist=0.656265 #using 20x oil lens, microns/pixel on dark room microscope\n",
    "    #pixel2dist=1.075268 #using 10x air objective on the confocal\n",
    "\n",
    "    print('Data is being converted to correct micrometers, assuming measured in pixels')\n",
    "    #scale columns by following\n",
    "    data[:,0] =data[:,0]*pixel2dist*pixel2dist#area\n",
    "    data[:,1] = data[:,1]*pixel2dist#majoraxislength\n",
    "    data[:,2] = data[:,2]*pixel2dist#minoraxislength\n",
    "    #3 is eccentricity, unitless\n",
    "    data[:,4] =data[:,4]*pixel2dist*pixel2dist#4 convex area,\n",
    "    data[:,5] = data[:,5]*pixel2dist#5 Equiv diam\n",
    "    #6 solidity, unitless\n",
    "    #7 extent, unitless\n",
    "    data[:,8] = data[:,8]*pixel2dist#8 Perimeter\n",
    "    data[:,9] = data[:,9]*pixel2dist#9 Convex Perimeter\n",
    "    data[:,10] = data[:,10]*pixel2dist#10 Fiber Length\n",
    "    data[:,11] = data[:,11]*pixel2dist#11 Max Inscribed Radius\n",
    "    data[:,12] = data[:,12]*pixel2dist#12 Bleb_length\n",
    "\n",
    "\n",
    "    #add form factor as last column of data?\n",
    "    #Form factor is added inside the Processing data when doing SVM. See \"Transform_data.py\"\n",
    "\n",
    "    #if len(Measure_Delete)>0:\n",
    "    #\tdata = np.delete(data, Measure_Delete, axis = 1) #delete time column and cellnumber column, since we already have them.\n",
    "\n",
    "    #so now data should look just like other data used in SVM\n",
    "\n",
    "    #add aspect ratio as last column of data\n",
    "    X_data = Add_Measures(data, add_AR=True, add_FF=True, add_convexity=True,\n",
    "                            add_curl_old=True, add_curl=True, add_sphericity=True,\n",
    "                            add_InscribedArea=True, add_BlebRel=True)\n",
    "    #if you wish to exclude certain measures:\n",
    "    #Area,MjrAxis,MnrAxis,Ecc,ConA,EqD,Sol,Ext,Per,conPer,FL,InR,bleb_M\n",
    "    X_data = Exclude_Measures(X_data, ex_Area=False,\n",
    "                            ex_MjrAxis=False, ex_MnrAxis=False, ex_Ecc=False,\n",
    "                            ex_ConA=False, ex_EqD=False, ex_Sol=False, ex_Ext=False,\n",
    "                            ex_Per=False,ex_conPer=False,ex_FL=False,ex_InR=False,\n",
    "                            ex_bleb=False)\n",
    "\n",
    "    ####IF THE DATA WAS POLYNOMIAL BEFORE SCALED, DO THAT NOW!\n",
    "    #frameinfo = getframeinfo(currentframe())\n",
    "    #print(\"IF YOUR SCALER IS A POLYNOMIAL, YOU NEED TO EDIT THE POLYNOMIAL FEATURES, LINE %d CODE\" % (frameinfo.lineno + 2))\n",
    "    #d = 1\n",
    "    if d==2:\n",
    "        print(\"Expanding feature set to include quadratic, cross terms.\")\n",
    "        poly=preprocessing.PolynomialFeatures(degree = d, interaction_only = True)\n",
    "        X_data_exp = poly.fit_transform(X_data)\n",
    "\n",
    "        #FIRST, SCALE THE DATA USING THE SCALER\n",
    "        X_data_scaled = scaler.transform(X_data_exp)\n",
    "    else:\n",
    "        X_data_scaled = scaler.transform(X_data)\n",
    "\n",
    "    #GATHER PROBABILITIES\n",
    "    Probs = clf.predict_proba(X_data_scaled)\n",
    "\n",
    "    #Gather Predictions\n",
    "    Predictions = clf.predict(X_data_scaled)\n",
    "\n",
    "    Descriptors = ['frame', 'cellnumber','x-cent','y-cent','actinedge','filopodia','bleb','lamellipodia']\n",
    "    return Probs"
   ]
  },
  {
   "cell_type": "code",
   "execution_count": 5,
   "id": "ee0a154e-4a09-44a9-b32a-2793f513d632",
   "metadata": {},
   "outputs": [
    {
     "name": "stderr",
     "output_type": "stream",
     "text": [
      "/home/physics/cunnichr/.micromamba/envs/svm/lib/python3.7/site-packages/sklearn/linear_model/least_angle.py:35: DeprecationWarning: `np.float` is a deprecated alias for the builtin `float`. To silence this warning, use `float` by itself. Doing this will not modify any behavior and is safe. If you specifically wanted the numpy scalar type, use `np.float64` here.\n",
      "Deprecated in NumPy 1.20; for more details and guidance: https://numpy.org/devdocs/release/1.20.0-notes.html#deprecations\n",
      "  eps=np.finfo(np.float).eps,\n",
      "/home/physics/cunnichr/.micromamba/envs/svm/lib/python3.7/site-packages/sklearn/linear_model/least_angle.py:597: DeprecationWarning: `np.float` is a deprecated alias for the builtin `float`. To silence this warning, use `float` by itself. Doing this will not modify any behavior and is safe. If you specifically wanted the numpy scalar type, use `np.float64` here.\n",
      "Deprecated in NumPy 1.20; for more details and guidance: https://numpy.org/devdocs/release/1.20.0-notes.html#deprecations\n",
      "  eps=np.finfo(np.float).eps, copy_X=True, fit_path=True,\n",
      "/home/physics/cunnichr/.micromamba/envs/svm/lib/python3.7/site-packages/sklearn/linear_model/least_angle.py:836: DeprecationWarning: `np.float` is a deprecated alias for the builtin `float`. To silence this warning, use `float` by itself. Doing this will not modify any behavior and is safe. If you specifically wanted the numpy scalar type, use `np.float64` here.\n",
      "Deprecated in NumPy 1.20; for more details and guidance: https://numpy.org/devdocs/release/1.20.0-notes.html#deprecations\n",
      "  eps=np.finfo(np.float).eps, copy_X=True, fit_path=True,\n",
      "/home/physics/cunnichr/.micromamba/envs/svm/lib/python3.7/site-packages/sklearn/linear_model/least_angle.py:862: DeprecationWarning: `np.float` is a deprecated alias for the builtin `float`. To silence this warning, use `float` by itself. Doing this will not modify any behavior and is safe. If you specifically wanted the numpy scalar type, use `np.float64` here.\n",
      "Deprecated in NumPy 1.20; for more details and guidance: https://numpy.org/devdocs/release/1.20.0-notes.html#deprecations\n",
      "  eps=np.finfo(np.float).eps, positive=False):\n",
      "/home/physics/cunnichr/.micromamba/envs/svm/lib/python3.7/site-packages/sklearn/linear_model/least_angle.py:1097: DeprecationWarning: `np.float` is a deprecated alias for the builtin `float`. To silence this warning, use `float` by itself. Doing this will not modify any behavior and is safe. If you specifically wanted the numpy scalar type, use `np.float64` here.\n",
      "Deprecated in NumPy 1.20; for more details and guidance: https://numpy.org/devdocs/release/1.20.0-notes.html#deprecations\n",
      "  max_n_alphas=1000, n_jobs=None, eps=np.finfo(np.float).eps,\n",
      "/home/physics/cunnichr/.micromamba/envs/svm/lib/python3.7/site-packages/sklearn/linear_model/least_angle.py:1344: DeprecationWarning: `np.float` is a deprecated alias for the builtin `float`. To silence this warning, use `float` by itself. Doing this will not modify any behavior and is safe. If you specifically wanted the numpy scalar type, use `np.float64` here.\n",
      "Deprecated in NumPy 1.20; for more details and guidance: https://numpy.org/devdocs/release/1.20.0-notes.html#deprecations\n",
      "  max_n_alphas=1000, n_jobs=None, eps=np.finfo(np.float).eps,\n",
      "/home/physics/cunnichr/.micromamba/envs/svm/lib/python3.7/site-packages/sklearn/linear_model/least_angle.py:1480: DeprecationWarning: `np.float` is a deprecated alias for the builtin `float`. To silence this warning, use `float` by itself. Doing this will not modify any behavior and is safe. If you specifically wanted the numpy scalar type, use `np.float64` here.\n",
      "Deprecated in NumPy 1.20; for more details and guidance: https://numpy.org/devdocs/release/1.20.0-notes.html#deprecations\n",
      "  eps=np.finfo(np.float).eps, copy_X=True, positive=False):\n",
      "/home/physics/cunnichr/.micromamba/envs/svm/lib/python3.7/site-packages/sklearn/linear_model/randomized_l1.py:152: DeprecationWarning: `np.float` is a deprecated alias for the builtin `float`. To silence this warning, use `float` by itself. Doing this will not modify any behavior and is safe. If you specifically wanted the numpy scalar type, use `np.float64` here.\n",
      "Deprecated in NumPy 1.20; for more details and guidance: https://numpy.org/devdocs/release/1.20.0-notes.html#deprecations\n",
      "  precompute=False, eps=np.finfo(np.float).eps,\n",
      "/home/physics/cunnichr/.micromamba/envs/svm/lib/python3.7/site-packages/sklearn/linear_model/randomized_l1.py:320: DeprecationWarning: `np.float` is a deprecated alias for the builtin `float`. To silence this warning, use `float` by itself. Doing this will not modify any behavior and is safe. If you specifically wanted the numpy scalar type, use `np.float64` here.\n",
      "Deprecated in NumPy 1.20; for more details and guidance: https://numpy.org/devdocs/release/1.20.0-notes.html#deprecations\n",
      "  eps=np.finfo(np.float).eps, random_state=None,\n",
      "/home/physics/cunnichr/.micromamba/envs/svm/lib/python3.7/site-packages/sklearn/linear_model/randomized_l1.py:580: DeprecationWarning: `np.float` is a deprecated alias for the builtin `float`. To silence this warning, use `float` by itself. Doing this will not modify any behavior and is safe. If you specifically wanted the numpy scalar type, use `np.float64` here.\n",
      "Deprecated in NumPy 1.20; for more details and guidance: https://numpy.org/devdocs/release/1.20.0-notes.html#deprecations\n",
      "  eps=4 * np.finfo(np.float).eps, n_jobs=None,\n"
     ]
    }
   ],
   "source": [
    "model_pkl_path = FILES[\"SVM\"][\"MODEL\"]\n",
    "scaler_pkl_path = FILES[\"SVM\"][\"SCALER\"]\n",
    "clf, scaler = load_model(model_pkl_path, scaler_pkl_path)"
   ]
  },
  {
   "cell_type": "code",
   "execution_count": null,
   "id": "f54208e2",
   "metadata": {},
   "outputs": [],
   "source": []
  },
  {
   "cell_type": "code",
   "execution_count": null,
   "id": "b84f9486",
   "metadata": {},
   "outputs": [],
   "source": []
  },
  {
   "cell_type": "code",
   "execution_count": 8,
   "id": "f6287849",
   "metadata": {},
   "outputs": [],
   "source": [
    "from sunlab.common.data import *\n",
    "from numpy import savetxt"
   ]
  },
  {
   "cell_type": "code",
   "execution_count": 51,
   "id": "a44df4f5",
   "metadata": {},
   "outputs": [
    {
     "name": "stdout",
     "output_type": "stream",
     "text": [
      "Data is being converted to correct micrometers, assuming measured in pixels\n"
     ]
    },
    {
     "name": "stderr",
     "output_type": "stream",
     "text": [
      "/home/physics/cunnichr/NewKeras/sunlab/code/sunlab/common/data/dataset.py:72: RuntimeWarning: No classification labels found for the dataset\n",
      "  RuntimeWarning)\n"
     ]
    }
   ],
   "source": [
    "import numpy as np\n",
    "p2d = 1.075268/4\n",
    "fname = FILES[\"HISTOLOGIES\"][\"J1\"]\n",
    "data = import_dataset(fname, 40, scaler=None)\n",
    "# Ignore dirty masks from brush effects in masking process\n",
    "df = data.dataframe[data.dataframe['Area']>350]\n",
    "ds = df[data.data_columns].to_numpy()\n",
    "out_data = load_test_data(ds, pixel2dist=p2d)\n",
    "columns = [\"frame\", \"cellnumber\", \"x-cent\", \"y-cent\", \"actinedge\", \"filopodia\", \"bleb\", \"lamellipodia\"]\n",
    "out = np.hstack([df[['Frames','CellNum','CenterX','CenterY']].to_numpy(), out_data])\n",
    "savetxt(fname[:-3] + \"txt\", out, comments=\"\", header=\" \".join(columns))"
   ]
  },
  {
   "cell_type": "code",
   "execution_count": 52,
   "id": "f3df960c",
   "metadata": {},
   "outputs": [
    {
     "name": "stderr",
     "output_type": "stream",
     "text": [
      "/home/physics/cunnichr/NewKeras/sunlab/code/sunlab/common/data/dataset.py:72: RuntimeWarning: No classification labels found for the dataset\n",
      "  RuntimeWarning)\n"
     ]
    },
    {
     "name": "stdout",
     "output_type": "stream",
     "text": [
      "Data is being converted to correct micrometers, assuming measured in pixels\n"
     ]
    }
   ],
   "source": [
    "import numpy as np\n",
    "p2d = 1.075268/4\n",
    "fname = FILES[\"HISTOLOGIES\"][\"H9\"]\n",
    "data = import_dataset(fname, 40, scaler=None)\n",
    "df = data.dataframe\n",
    "ds = df[data.data_columns].to_numpy()\n",
    "out_data = load_test_data(ds, pixel2dist=p2d)\n",
    "columns = [\"frame\", \"cellnumber\", \"x-cent\", \"y-cent\", \"actinedge\", \"filopodia\", \"bleb\", \"lamellipodia\"]\n",
    "out = np.hstack([df[['Frames','CellNum','CenterX','CenterY']].to_numpy(), out_data])\n",
    "savetxt(fname[:-3] + \"txt\", out, comments=\"\", header=\" \".join(columns))"
   ]
  },
  {
   "cell_type": "code",
   "execution_count": 9,
   "id": "9adcb164",
   "metadata": {},
   "outputs": [
    {
     "name": "stdout",
     "output_type": "stream",
     "text": [
      "Data is being converted to correct micrometers, assuming measured in pixels\n"
     ]
    },
    {
     "name": "stderr",
     "output_type": "stream",
     "text": [
      "/home/physics/cunnichr/NewKeras/sunlab/code/sunlab/common/data/dataset.py:72: RuntimeWarning: No classification labels found for the dataset\n",
      "  RuntimeWarning)\n"
     ]
    }
   ],
   "source": [
    "import numpy as np\n",
    "p2d = 1.075268/4\n",
    "fname = FILES[\"HISTOLOGIES\"][\"H4\"]\n",
    "data = import_dataset(fname, 40, scaler=None)\n",
    "df = data.dataframe\n",
    "ds = df[data.data_columns].to_numpy()\n",
    "out_data = load_test_data(ds, pixel2dist=p2d)\n",
    "columns = [\"frame\", \"cellnumber\", \"x-cent\", \"y-cent\", \"actinedge\", \"filopodia\", \"bleb\", \"lamellipodia\"]\n",
    "out = np.hstack([df[['Frames','CellNum','CenterX','CenterY']].to_numpy(), out_data])\n",
    "savetxt(fname[:-3] + \"txt\", out, comments=\"\", header=\" \".join(columns))"
   ]
  },
  {
   "cell_type": "code",
   "execution_count": 53,
   "id": "546563f6",
   "metadata": {},
   "outputs": [
    {
     "name": "stdout",
     "output_type": "stream",
     "text": [
      "Data is being converted to correct micrometers, assuming measured in pixels\n"
     ]
    },
    {
     "name": "stderr",
     "output_type": "stream",
     "text": [
      "/home/physics/cunnichr/NewKeras/sunlab/code/sunlab/common/data/dataset.py:72: RuntimeWarning: No classification labels found for the dataset\n",
      "  RuntimeWarning)\n"
     ]
    }
   ],
   "source": [
    "import numpy as np\n",
    "p2d = 1.075268/4\n",
    "fname = FILES[\"HISTOLOGIES\"][\"image001\"]\n",
    "data = import_dataset(fname, 40, scaler=None)\n",
    "df = data.dataframe\n",
    "# Ignore bad mask\n",
    "df = df[df['Perimeter'] < 8500]\n",
    "ds = df[data.data_columns].to_numpy()\n",
    "out_data = load_test_data(ds, pixel2dist=p2d)\n",
    "columns = [\"frame\", \"cellnumber\", \"x-cent\", \"y-cent\", \"actinedge\", \"filopodia\", \"bleb\", \"lamellipodia\"]\n",
    "out = np.hstack([df[['Frames','CellNum','CenterX','CenterY']].to_numpy(), out_data])\n",
    "savetxt(fname[:-3] + \"txt\", out, comments=\"\", header=\" \".join(columns))"
   ]
  },
  {
   "cell_type": "code",
   "execution_count": null,
   "id": "602386e0",
   "metadata": {},
   "outputs": [],
   "source": []
  },
  {
   "cell_type": "code",
   "execution_count": null,
   "id": "46571673",
   "metadata": {},
   "outputs": [],
   "source": []
  },
  {
   "cell_type": "code",
   "execution_count": null,
   "id": "1df5e089",
   "metadata": {},
   "outputs": [],
   "source": []
  },
  {
   "cell_type": "code",
   "execution_count": 6,
   "id": "104272f1",
   "metadata": {},
   "outputs": [],
   "source": [
    "SAVE_OUT = False"
   ]
  },
  {
   "cell_type": "code",
   "execution_count": 9,
   "id": "321d7062-e2e0-4fed-bf48-ea8f96901be4",
   "metadata": {},
   "outputs": [
    {
     "name": "stdout",
     "output_type": "stream",
     "text": [
      "Data is being converted to correct micrometers, assuming measured in pixels\n"
     ]
    }
   ],
   "source": [
    "from numpy import loadtxt, savetxt\n",
    "data = loadtxt(FILES[\"PHENOTYPE_GRID\"][\"IN\"])\n",
    "classes = load_test_data(data)\n",
    "if SAVE_OUT:\n",
    "    savetxt(FILES[\"PHENOTYPE_GRID\"][\"OUT\"], classes)"
   ]
  },
  {
   "cell_type": "code",
   "execution_count": 19,
   "id": "b0669eb5",
   "metadata": {},
   "outputs": [
    {
     "data": {
      "text/plain": [
       "(250000,)"
      ]
     },
     "execution_count": 19,
     "metadata": {},
     "output_type": "execute_result"
    }
   ],
   "source": [
    "from numpy import argmax\n",
    "im_classes = argmax(classes, axis=-1)\n",
    "im_classes.shape"
   ]
  },
  {
   "cell_type": "code",
   "execution_count": 22,
   "id": "cb4b0a78",
   "metadata": {},
   "outputs": [
    {
     "data": {
      "text/plain": [
       "<matplotlib.image.AxesImage at 0x2aabb1036d10>"
      ]
     },
     "execution_count": 22,
     "metadata": {},
     "output_type": "execute_result"
    },
    {
     "data": {
      "image/png": "[encoded data removed]",
      "text/plain": [
       "<Figure size 640x480 with 1 Axes>"
      ]
     },
     "metadata": {},
     "output_type": "display_data"
    }
   ],
   "source": [
    "from matplotlib import pyplot as plt\n",
    "from sunlab.common.plotting.colors import Pmap\n",
    "plt.imshow(im_classes.reshape((500,500)).T, cmap=Pmap, origin='lower')"
   ]
  },
  {
   "cell_type": "code",
   "execution_count": 10,
   "id": "394f4fdc",
   "metadata": {},
   "outputs": [
    {
     "name": "stdout",
     "output_type": "stream",
     "text": [
      "{\n",
      "    \"TRAINING_DATASET\": \"../../data/spheroid26_011523_filtered.csv\",\n",
      "    \"TRAINING_DATASET_WIDE_BERTH\": \"../../data/spheroid26_011523_exc.csv\",\n",
      "    \"PRETRAINED_MODEL_DIR\": \"../../models/current_model/\",\n",
      "    \"PEN_TRACKED\": {\n",
      "        \"AUTO\": \"../../data/PEN_automatically_tracked.csv\",\n",
      "        \"MANUAL\": \"../../data/PEN_manually_tracked.csv\"\n",
      "    },\n",
      "    \"RHO\": {\n",
      "        \"3\": \"../../data/Rho_act_Cell3.csv\",\n",
      "        \"4\": \"../../data/Rho_act_Cell4.csv\",\n",
      "        \"6\": \"../../data/Rho_act_Cell6.csv\",\n",
      "        \"7\": \"../../data/Rho_act_Cell7.csv\",\n",
      "        \"8\": \"../../data/Rho_act_Cell8.csv\",\n",
      "        \"9\": \"../../data/Rho_act_Cell9.csv\",\n",
      "        \"10\": \"../../data/Rho_act_Cell10.csv\",\n",
      "        \"11\": \"../../data/Rho_act_Cell11.csv\"\n",
      "    },\n",
      "    \"SPHEROID\": {\n",
      "        \"1p5mgml\": \"../../data/spheroid26_011523_filtered.csv\",\n",
      "        \"3mgml\": \"../../data/spheroid20_011923_filtered.csv\",\n",
      "        \"4mgml\": \"../../data/spheroid22_012323_filtered.csv\",\n",
      "        \"6mgml\": \"../../data/spheroid26_012423_filtered.csv\"\n",
      "    },\n",
      "    \"FIGURES\": {\n",
      "        \"2\": {\n",
      "            \"PHENOTYPES_SMOOTHED\": \"../../extra_data/PhenotypeGaussianSmoothed.npy\"\n",
      "        },\n",
      "        \"3\": {\n",
      "            \"SAMPLED_DATASET\": \"../../extra_data/Figure3.SampledDataset.npy\",\n",
      "            \"PAIRWISE_DISTANCES\": \"../../extra_data/Figure3.PairwiseDistances.npy\",\n",
      "            \"PAIRWISE_DOT_PRODUCTS\": \"../../extra_data/Figure3.PairwiseDotProducts.npy\",\n",
      "            \"TRAJECTORIES\": \"../../extra_data/Figure3.Trajectories.npy\"\n",
      "        }\n",
      "    },\n",
      "    \"PHENOTYPE_GRID\": {\n",
      "        \"IN\": \"../../extra_data/PhenotypeGrid.npy\",\n",
      "        \"OUT\": \"../../extra_data/PhenotypeGrid_out.npy\"\n",
      "    },\n",
      "    \"PHENOTYPE_RGB\": \"../../extra_data/PhenotypeColors.npy\",\n",
      "    \"SVM\": {\n",
      "        \"MODEL\": \"../../other/svm/SVC_rbf_010820_16942_new.pkl\",\n",
      "        \"SCALER\": \"../../other/svm/SVC_rbf_scaler_010820_16942_new.pkl\"\n",
      "    },\n",
      "    \"NONPHYSICAL_MASK\": \"../../extra_data/NonPhysicalMask.npy\"\n",
      "}\n"
     ]
    }
   ],
   "source": [
    "from json import dumps\n",
    "print(dumps(FILES,indent=4))"
   ]
  },
  {
   "cell_type": "code",
   "execution_count": null,
   "id": "31cf538e",
   "metadata": {},
   "outputs": [],
   "source": []
  }
 ],
 "metadata": {
  "kernelspec": {
   "display_name": "svm",
   "language": "python",
   "name": "svm"
  },
  "language_info": {
   "codemirror_mode": {
    "name": "ipython",
    "version": 3
   },
   "file_extension": ".py",
   "mimetype": "text/x-python",
   "name": "python",
   "nbconvert_exporter": "python",
   "pygments_lexer": "ipython3",
   "version": "3.7.12"
  }
 },
 "nbformat": 4,
 "nbformat_minor": 5
}
