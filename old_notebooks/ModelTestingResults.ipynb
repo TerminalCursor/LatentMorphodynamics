{
 "cells": [
  {
   "cell_type": "code",
   "execution_count": 1,
   "id": "c436fe36",
   "metadata": {},
   "outputs": [],
   "source": [
    "import os\n",
    "os.environ['TF_CPP_MIN_LOG_LEVEL'] = \"3\"\n",
    "\n",
    "from matplotlib import pyplot as plt\n",
    "import numpy as np\n",
    "\n",
    "import copy"
   ]
  },
  {
   "cell_type": "code",
   "execution_count": 2,
   "id": "a2de4c43",
   "metadata": {},
   "outputs": [
    {
     "data": {
      "text/plain": [
       "[0.03831879422068596,\n",
       " 0.1187107115983963,\n",
       " 0.16365589201450348,\n",
       " 0.039159368723630905,\n",
       " 0.18282656371593475,\n",
       " 0.09447649866342545,\n",
       " 0.16753192245960236,\n",
       " 0.040330443531274796,\n",
       " 0.11326785385608673,\n",
       " 0.03986871987581253]"
      ]
     },
     "execution_count": 2,
     "metadata": {},
     "output_type": "execute_result"
    }
   ],
   "source": [
    "from os import listdir\n",
    "import re\n",
    "BASE_DIR = \"../../CleanedModels/models/ModelsTesting/\"\n",
    "testing_data = []\n",
    "testing_results = {}\n",
    "for DIR in listdir(BASE_DIR):\n",
    "    FULL_DIR = BASE_DIR + DIR\n",
    "    space_size = int(re.findall(r\"_0?([0-9]*)_\", DIR)[-1])\n",
    "    try:\n",
    "        data = np.loadtxt(FULL_DIR + \"/epoch_data.csv\", delimiter=',')\n",
    "    except:\n",
    "        continue\n",
    "    data = data[-1,:]\n",
    "    testing_data.append((space_size, data[1], data[2], data[3], data[4], data[5], data[6]))\n",
    "    if space_size in testing_results.keys():\n",
    "        testing_results[space_size][\"t_mse\"].append(data[1])\n",
    "        testing_results[space_size][\"v_mse\"].append(data[2])\n",
    "        testing_results[space_size][\"t_dl\"].append(data[3])\n",
    "        testing_results[space_size][\"v_dl\"].append(data[4])\n",
    "        testing_results[space_size][\"t_gl\"].append(data[5])\n",
    "        testing_results[space_size][\"v_gl\"].append(data[6])\n",
    "        testing_results[space_size][\"t_diff\"].append(data[3] - data[5])\n",
    "        testing_results[space_size][\"v_diff\"].append(data[4] - data[6])\n",
    "    else:\n",
    "        testing_results[space_size] = {\n",
    "            \"t_mse\": [data[1]],\n",
    "            \"v_mse\": [data[2]],\n",
    "            \"t_dl\":  [data[3]],\n",
    "            \"v_dl\":  [data[4]],\n",
    "            \"t_gl\":  [data[5]],\n",
    "            \"v_gl\":  [data[6]],\n",
    "            \"t_diff\": [data[3] - data[5]],\n",
    "            \"v_diff\": [data[4] - data[6]],\n",
    "        }\n",
    "testing_data = np.array(testing_data)\n",
    "testing_results[1]['t_mse']"
   ]
  },
  {
   "cell_type": "code",
   "execution_count": 6,
   "id": "eb99d53d",
   "metadata": {},
   "outputs": [
    {
     "data": {
      "text/plain": [
       "''"
      ]
     },
     "execution_count": 6,
     "metadata": {},
     "output_type": "execute_result"
    },
    {
     "data": {
      "image/png": "[encoded data removed]",
      "text/plain": [
       "<Figure size 640x480 with 1 Axes>"
      ]
     },
     "metadata": {},
     "output_type": "display_data"
    }
   ],
   "source": [
    "metric = {}\n",
    "metrics = ['t_mse', 't_dl', 't_gl', 'v_mse', 'v_dl', 'v_gl']\n",
    "l = 't'\n",
    "# plt.figure(figsize=(10,6))\n",
    "results = copy.deepcopy(testing_results)\n",
    "testing_results = copy.deepcopy(results)\n",
    "metric = {}\n",
    "for index in testing_results.keys():\n",
    "    res1 = testing_results[index][f'{l}_dl']\n",
    "    res2 = testing_results[index][f'{l}_gl']\n",
    "    res = np.array(res1) - np.array(res2)\n",
    "    if index in metric.keys():\n",
    "        metric[index].append(res)\n",
    "    else:\n",
    "        metric[index] = res\n",
    "metric = dict(sorted(metric.items()))\n",
    "plt.boxplot(metric.values(), labels=metric.keys())\n",
    "# plt.yscale('log')\n",
    "plt.ylabel(f'{l}_dl-{l}_gl')\n",
    "# plt.tight_layout()\n",
    "# plt.savefig(f\"./figures/model_{l}diff.jpg\")\n",
    "# plt.blank()\n",
    "# plt.savefig(f\"./figures/model_{l}diff.svg\")\n",
    "# _plt = blank_plot(plt)\n",
    "# _plt.savefig(f\"./figures/model_{metric_name}.eps\")\n",
    "\"\""
   ]
  },
  {
   "cell_type": "code",
   "execution_count": 11,
   "id": "6db1ad6d",
   "metadata": {},
   "outputs": [],
   "source": [
    "from sunlab.common.plotting import blank_plot\n",
    "from sunlab.globals import DIR_ROOT"
   ]
  },
  {
   "cell_type": "code",
   "execution_count": 15,
   "id": "462118d5",
   "metadata": {},
   "outputs": [],
   "source": [
    "SAVE_FIGURES=False"
   ]
  },
  {
   "cell_type": "code",
   "execution_count": 14,
   "id": "588884c7",
   "metadata": {},
   "outputs": [
    {
     "data": {
      "text/plain": [
       "''"
      ]
     },
     "execution_count": 14,
     "metadata": {},
     "output_type": "execute_result"
    },
    {
     "data": {
      "image/png": "[encoded data removed]",
      "text/plain": [
       "<Figure size 640x480 with 1 Axes>"
      ]
     },
     "metadata": {},
     "output_type": "display_data"
    }
   ],
   "source": [
    "for idx in range(len(metrics)):\n",
    "    plt.clf()\n",
    "    metric = {}\n",
    "    metrics = ['t_mse', 'v_mse', 't_dl', 'v_dl', 't_gl', 'v_gl', 't_diff', 'v_diff']\n",
    "    metric_name = metrics[idx]\n",
    "    for index in testing_results.keys():\n",
    "        if index in metric.keys():\n",
    "            metric[index].append(testing_results[index][metric_name])\n",
    "        else:\n",
    "            metric[index] = testing_results[index][metric_name]\n",
    "    metric = dict(sorted(metric.items()))\n",
    "    plt.boxplot(metric.values(), labels=metric.keys())\n",
    "    if not (metric_name in ['t_diff','v_diff']):\n",
    "        plt.yscale('log')\n",
    "    blank_plot(_xticks=True, _yticks=True)\n",
    "    if SAVE_FIGURES:\n",
    "        plt.save(DIR_ROOT + f\"Figures/EX/model_{metric_name}\", _xticks=True, _yticks=True)\n",
    "# plt.savefig(f\"./figures/model_{metric_name}.jpg\")\n",
    "# # _plt = blank_plot(plt)\n",
    "# plt.blank()\n",
    "# plt.savefig(f\"./figures/model_{metric_name}.svg\")\n",
    "\"\""
   ]
  },
  {
   "cell_type": "code",
   "execution_count": null,
   "id": "5185ada7",
   "metadata": {},
   "outputs": [],
   "source": []
  }
 ],
 "metadata": {
  "kernelspec": {
   "display_name": "tfnb",
   "language": "python",
   "name": "python3"
  },
  "language_info": {
   "codemirror_mode": {
    "name": "ipython",
    "version": 3
   },
   "file_extension": ".py",
   "mimetype": "text/x-python",
   "name": "python",
   "nbconvert_exporter": "python",
   "pygments_lexer": "ipython3",
   "version": "3.9.12"
  }
 },
 "nbformat": 4,
 "nbformat_minor": 5
}
